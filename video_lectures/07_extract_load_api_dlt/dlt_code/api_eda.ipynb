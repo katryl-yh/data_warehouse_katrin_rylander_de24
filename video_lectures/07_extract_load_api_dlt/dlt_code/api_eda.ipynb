{
 "cells": [
  {
   "cell_type": "markdown",
   "id": "b3a56b59",
   "metadata": {},
   "source": [
    "### EDA on jobtech API\n",
    "- this script is used to explain how to extract data from jobtech API\n",
    "- this is not used by the dlt script in the data ingestion process"
   ]
  },
  {
   "cell_type": "code",
   "execution_count": 2,
   "id": "beaf6805",
   "metadata": {},
   "outputs": [
    {
     "name": "stdout",
     "output_type": "stream",
     "text": [
      "Lärare till Uppsala, Glaveby Consulting AB\n",
      "JENSEN gymnasium Uppsala söker lärare i matematik/engelska, Jensen Education AB\n",
      "Lärare i SVA/SFI till utbildnings- och jobbcenter i Uppsala, Uppsala kommun\n",
      "Lärare i SVA/SFI till Utbildnings- och jobbcenter i Uppsala (kvällstid), Uppsala kommun\n",
      "Lärare luftbevakning Utbildningsavdelningen StrilS, Försvarsmakten\n",
      "Lärare årskurs F-3 till Flogstaskolan, Uppsala kommun\n",
      "Lärarvikarier i samtliga ämneskombinationer till Grillska gymnasiet i Uppsa, Stadsmissionens Skolstift\n",
      "Yrkeslärare barn och fritid till Ellen Fries gymnasium, Uppsala kommun\n",
      "JENSEN grundskola Kåbo 4-9 söker timvikarier, Jensen Education AB\n",
      "Lärare åk 3-5 till Danmarks skola, Uppsala kommun\n",
      "Jobba som lärare på Sveriges bästa och mest personliga bemanningsföretag!, PersonalExpressen AB\n"
     ]
    }
   ],
   "source": [
    "import requests\n",
    "import json\n",
    "\n",
    "url = 'https://jobsearch.api.jobtechdev.se'\n",
    "url_for_search = f\"{url}/search\"\n",
    "\n",
    "\n",
    "def _get_ads(params):\n",
    "    headers = {'accept': 'application/json'}\n",
    "    response = requests.get(url_for_search, headers=headers, params=params)\n",
    "    response.raise_for_status()  # check for http errors\n",
    "    return json.loads(response.content.decode('utf8'))\n",
    "\n",
    "\n",
    "def example_search_return_number_of_hits(query):\n",
    "    # limit: 0 means no ads, just a value of how many ads were found.\n",
    "    search_params = {'q': query, 'limit': 0}\n",
    "    json_response = _get_ads(search_params)\n",
    "    number_of_hits = json_response['total']['value']\n",
    "    print(f\"\\nNumber of hits = {number_of_hits}\")\n",
    "\n",
    "\n",
    "def example_search_loop_through_hits(query):\n",
    "    # limit = 100 is the max number of hits that can be returned.\n",
    "    # If there are more (which you find with ['total']['value'] in the json response)\n",
    "    # you have to use offset and multiple requests to get all ads.\n",
    "    search_params = {'q': query, 'limit': 100}\n",
    "    json_response = _get_ads(search_params)\n",
    "    hits = json_response['hits']\n",
    "    for hit in hits:   \n",
    "        print(f\"{hit['headline']}, {hit['employer']['name']}\")\n",
    "\n",
    "\n",
    "query = 'lärare uppsala'\n",
    "example_search_loop_through_hits(query)"
   ]
  },
  {
   "cell_type": "code",
   "execution_count": 3,
   "id": "3e603bfd",
   "metadata": {},
   "outputs": [
    {
     "name": "stdout",
     "output_type": "stream",
     "text": [
      "\n",
      "Number of hits = 11\n"
     ]
    }
   ],
   "source": [
    "example_search_return_number_of_hits(query)"
   ]
  },
  {
   "cell_type": "code",
   "execution_count": 6,
   "id": "1cebf4cb",
   "metadata": {},
   "outputs": [],
   "source": [
    "search_params = {'q': query, 'limit': 100}\n",
    "json_response = _get_ads(search_params)\n",
    "#json_response"
   ]
  },
  {
   "cell_type": "code",
   "execution_count": 7,
   "id": "5ee8c266",
   "metadata": {},
   "outputs": [
    {
     "data": {
      "text/plain": [
       "dict_keys(['total', 'positions', 'query_time_in_millis', 'result_time_in_millis', 'stats', 'freetext_concepts', 'hits'])"
      ]
     },
     "execution_count": 7,
     "metadata": {},
     "output_type": "execute_result"
    }
   ],
   "source": [
    "json_response.keys()"
   ]
  },
  {
   "cell_type": "code",
   "execution_count": 10,
   "id": "de552927",
   "metadata": {},
   "outputs": [
    {
     "data": {
      "text/plain": [
       "11"
      ]
     },
     "execution_count": 10,
     "metadata": {},
     "output_type": "execute_result"
    }
   ],
   "source": [
    "len(json_response[\"hits\"])"
   ]
  },
  {
   "cell_type": "code",
   "execution_count": 12,
   "id": "f4ebaf8c",
   "metadata": {},
   "outputs": [
    {
     "data": {
      "text/plain": [
       "dict_keys(['relevance', 'id', 'external_id', 'original_id', 'label', 'webpage_url', 'logo_url', 'headline', 'application_deadline', 'number_of_vacancies', 'description', 'employment_type', 'salary_type', 'salary_description', 'duration', 'working_hours_type', 'scope_of_work', 'access', 'employer', 'application_details', 'experience_required', 'access_to_own_car', 'driving_license_required', 'driving_license', 'occupation', 'occupation_group', 'occupation_field', 'workplace_address', 'must_have', 'nice_to_have', 'application_contacts', 'publication_date', 'last_publication_date', 'removed', 'removed_date', 'source_type', 'timestamp'])"
      ]
     },
     "execution_count": 12,
     "metadata": {},
     "output_type": "execute_result"
    }
   ],
   "source": [
    "json_response[\"hits\"][1].keys()"
   ]
  },
  {
   "cell_type": "code",
   "execution_count": 13,
   "id": "7aadbb42",
   "metadata": {},
   "outputs": [
    {
     "data": {
      "text/plain": [
       "'JENSEN gymnasium Uppsala söker lärare i matematik/engelska'"
      ]
     },
     "execution_count": 13,
     "metadata": {},
     "output_type": "execute_result"
    }
   ],
   "source": [
    "json_response[\"hits\"][1][\"headline\"]"
   ]
  },
  {
   "cell_type": "code",
   "execution_count": 17,
   "id": "c47ba2d0",
   "metadata": {},
   "outputs": [
    {
     "data": {
      "text/plain": [
       "71"
      ]
     },
     "execution_count": 17,
     "metadata": {},
     "output_type": "execute_result"
    }
   ],
   "source": [
    "\n",
    "json_response = _get_ads({\"q\": \"data engineer\", \"limit\": 100})\n",
    "#json_response\n",
    "len(json_response[\"hits\"])"
   ]
  },
  {
   "cell_type": "code",
   "execution_count": 18,
   "id": "fa8bb4e9",
   "metadata": {},
   "outputs": [
    {
     "data": {
      "text/plain": [
       "('Senior Software Engineer - Data & Video Analytics, Lund',\n",
       " 'Axis Communications AB')"
      ]
     },
     "execution_count": 18,
     "metadata": {},
     "output_type": "execute_result"
    }
   ],
   "source": [
    "json_response[\"hits\"][-1][\"headline\"], json_response[\"hits\"][-1][\"employer\"][\"name\"]"
   ]
  },
  {
   "cell_type": "code",
   "execution_count": null,
   "id": "a99e649f",
   "metadata": {},
   "outputs": [],
   "source": []
  }
 ],
 "metadata": {
  "kernelspec": {
   "display_name": "data_warehouse_katrin_rylander_de24",
   "language": "python",
   "name": "python3"
  },
  "language_info": {
   "codemirror_mode": {
    "name": "ipython",
    "version": 3
   },
   "file_extension": ".py",
   "mimetype": "text/x-python",
   "name": "python",
   "nbconvert_exporter": "python",
   "pygments_lexer": "ipython3",
   "version": "3.12.3"
  }
 },
 "nbformat": 4,
 "nbformat_minor": 5
}
